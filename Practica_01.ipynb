{
 "cells": [
  {
   "cell_type": "code",
   "execution_count": 4,
   "metadata": {},
   "outputs": [
    {
     "name": "stdout",
     "output_type": "stream",
     "text": [
      "5\n"
     ]
    }
   ],
   "source": [
    "a = 2\n",
    "b = 3\n",
    "c = a + b\n",
    "print(c)"
   ]
  },
  {
   "cell_type": "code",
   "execution_count": 6,
   "metadata": {},
   "outputs": [
    {
     "data": {
      "text/plain": [
       "15"
      ]
     },
     "execution_count": 6,
     "metadata": {},
     "output_type": "execute_result"
    }
   ],
   "source": [
    "def multiplica(a,b):\n",
    "    return a*b\n",
    "multiplica(5,3)"
   ]
  },
  {
   "cell_type": "code",
   "execution_count": 13,
   "metadata": {},
   "outputs": [
    {
     "data": {
      "text/plain": [
       "int"
      ]
     },
     "execution_count": 13,
     "metadata": {},
     "output_type": "execute_result"
    }
   ],
   "source": [
    "type(c)\n",
    "\n",
    "type(a)"
   ]
  },
  {
   "cell_type": "code",
   "execution_count": 16,
   "metadata": {},
   "outputs": [
    {
     "name": "stdout",
     "output_type": "stream",
     "text": [
      "['False', 'None', 'True', 'and', 'as', 'assert', 'async', 'await', 'break', 'class', 'continue', 'def', 'del', 'elif', 'else', 'except', 'finally', 'for', 'from', 'global', 'if', 'import', 'in', 'is', 'lambda', 'nonlocal', 'not', 'or', 'pass', 'raise', 'return', 'try', 'while', 'with', 'yield']\n"
     ]
    }
   ],
   "source": [
    "import keyword\n",
    "print(keyword.kwlist)"
   ]
  },
  {
   "cell_type": "code",
   "execution_count": 17,
   "metadata": {},
   "outputs": [
    {
     "name": "stdout",
     "output_type": "stream",
     "text": [
      "9.0\n"
     ]
    }
   ],
   "source": [
    "d = 3/2*6\n",
    "print(d)"
   ]
  },
  {
   "cell_type": "code",
   "execution_count": 21,
   "metadata": {},
   "outputs": [
    {
     "name": "stdout",
     "output_type": "stream",
     "text": [
      "300 Minutos, son: 5.0 horas\n"
     ]
    }
   ],
   "source": [
    "min = 300\n",
    "horas = min / 60\n",
    "print(min,\"Minutos, son:\",horas,\"horas\")"
   ]
  },
  {
   "cell_type": "code",
   "execution_count": 19,
   "metadata": {},
   "outputs": [
    {
     "name": "stdout",
     "output_type": "stream",
     "text": [
      "Hola\n",
      "Has introducido por teclado: Hola\n"
     ]
    }
   ],
   "source": [
    "input = input()\n",
    "print (\"Has introducido por teclado:\",input)"
   ]
  },
  {
   "cell_type": "code",
   "execution_count": 2,
   "metadata": {},
   "outputs": [
    {
     "data": {
      "text/plain": [
       "243"
      ]
     },
     "execution_count": 2,
     "metadata": {},
     "output_type": "execute_result"
    }
   ],
   "source": [
    "7>=7\n",
    "3**5"
   ]
  },
  {
   "cell_type": "code",
   "execution_count": 8,
   "metadata": {},
   "outputs": [
    {
     "name": "stdout",
     "output_type": "stream",
     "text": [
      "Escribe un número:0\n",
      "0 Es cero\n"
     ]
    }
   ],
   "source": [
    "x = int(input(\"Escribe un número:\"))\n",
    "if x > 0:\n",
    "    print(x, \"Es positivo\")\n",
    "elif x == 0:\n",
    "        print(x, \"Es cero\")\n",
    "else:\n",
    "    print(x, \"Es negativo\")\n"
   ]
  },
  {
   "cell_type": "code",
   "execution_count": 20,
   "metadata": {},
   "outputs": [
    {
     "data": {
      "text/plain": [
       "10"
      ]
     },
     "execution_count": 20,
     "metadata": {},
     "output_type": "execute_result"
    }
   ],
   "source": [
    "len(\"psicologia\")"
   ]
  },
  {
   "cell_type": "code",
   "execution_count": 21,
   "metadata": {},
   "outputs": [
    {
     "name": "stdout",
     "output_type": "stream",
     "text": [
      "10\n",
      "11\n",
      "12\n",
      "13\n",
      "14\n",
      "15\n",
      "Escribe una cadena: ruben\n",
      "Cadena invertida es:  nebur\n",
      "Introsuce un numero: 4\n",
      "El factorial de:  4\n",
      "El factorial:  24\n",
      "Introsuce un numero o (0) para salir: 4\n",
      "EL factorial es: 24\n",
      "Introsuce un numero o (0) para salir: 3\n",
      "EL factorial es: 6\n",
      "Introsuce un numero o (0) para salir: 5\n",
      "EL factorial es: 120\n",
      "Introsuce un numero o (0) para salir: 0\n"
     ]
    }
   ],
   "source": [
    "# Bucle WHILE\n",
    "i = 10\n",
    "while(i <= 15):\n",
    "    print(i)\n",
    "    i+=1\n",
    "\n",
    "cad = input(\"Escribe una cadena: \")\n",
    "cadinver = \"\"\n",
    "cont = len(cad)\n",
    "indice = -1\n",
    "\n",
    "while cont >= 1:\n",
    "    cadinver += cad[indice]\n",
    "    indice += -1\n",
    "    cont -= 1\n",
    "\n",
    "print(\"Cadena invertida es: \",cadinver)\n",
    "\n",
    "num = int(input(\"Introsuce un numero: \"))\n",
    "factorial = 1\n",
    "print(\"El factorial de: \",num,)\n",
    "\n",
    "while num > 0: #El factorial de un num es multiplicar el numero por todos sus numeros enteros anteriores hasta el 1\n",
    "    factorial *= num # (factorial = factorial * num)\n",
    "    num -= 1\n",
    "\n",
    "print(\"El factorial: \",factorial)\n",
    "\n",
    "while True:\n",
    "    num1 = int(input(\"Introsuce un numero o (0) para salir: \"))\n",
    "    factorial = 1\n",
    "    if ( num1 == 0):\n",
    "        break #Sentencia para salir de la ejecución del programa..\n",
    "    else:\n",
    "        while num1 > 0:\n",
    "            factorial *= num1 # (factorial = factorial * num)\n",
    "            num1 -= 1\n",
    "    print(\"EL factorial es:\", factorial)\n",
    "\n",
    "    "
   ]
  },
  {
   "cell_type": "code",
   "execution_count": 31,
   "metadata": {},
   "outputs": [
    {
     "name": "stdout",
     "output_type": "stream",
     "text": [
      "Introsuce un numero: 3\n",
      "1  Es impar.\n",
      "2  Es par.\n",
      "3  Es impar.\n",
      "Introduce cadena:ru\n",
      "La cadena invertida es:  ur\n",
      "¿Cuantos números introduciras:5\n",
      "Introduce el 1º número: 1\n",
      "Es Positivo e impar\n",
      "Introduce el 2º número: -1\n",
      "Es Negativo e impar\n",
      "Introduce el 3º número: -2\n",
      "Es Negativo y Par\n",
      "Introduce el 4º número: 5\n",
      "Es Positivo e impar\n",
      "Introduce el 5º número: 3\n",
      "Es Positivo e impar\n"
     ]
    }
   ],
   "source": [
    "# Bucle FOR\n",
    "\n",
    "num = int(input(\"Introsuce un numero: \"))\n",
    "num += 1\n",
    "\n",
    "for i in range(1,num): # Enumera del 1 al número introducido y saca cuales son pares\n",
    "    if (i%2 == 0):\n",
    "        print(i,\" Es par.\")\n",
    "    else:\n",
    "        print(i,\" Es impar.\")\n",
    "\n",
    "        \n",
    "cad = str(input(\"Introduce cadena:\"))\n",
    "cadinv = ''\n",
    "\n",
    "for n in cad:\n",
    "    cadinv = n + cadinv\n",
    "    # cadinv += n ***Esta sentencia no da el mismo resultado que la anterior..\n",
    "    \n",
    "print(\"La cadena invertida es: \",cadinv)\n",
    "\n",
    "# Indicar al programa cuantos números se introducirán por teclado y \n",
    "# validar si son negativos, positivos, pares o impares..\n",
    "\n",
    "rango = int(input(\"¿Cuantos números introduciras:\"))\n",
    "\n",
    "for cnt in range(0,rango):\n",
    "    num1 = int(input(f\"Introduce el {cnt+1}º número: \")) # HAY QUE PONER \"f\" delante de los textos informatorios..\n",
    "    if (num1%2 == 0 and num1 > 0):\n",
    "        print(\"Es Positivo y Par\")\n",
    "    elif (num1%2 == 0 and num1 < 0):\n",
    "        print(\"Es Negativo y Par\")\n",
    "    else:\n",
    "        if(num1 > 0):\n",
    "            print(\"Es Positivo e impar\")\n",
    "        else:\n",
    "            print(\"Es Negativo e impar\")\n",
    "            \n",
    "                     "
   ]
  },
  {
   "cell_type": "code",
   "execution_count": 52,
   "metadata": {},
   "outputs": [
    {
     "name": "stdout",
     "output_type": "stream",
     "text": [
      "(1, 2, 3, 4, 5)\n",
      "('a', 'e', 'i', 'o', 'u')\n",
      "('h', 'e', 'l', 'l', 'o', ' ', 'p', 'l', 'a', 'n', 'e', 't', ' ', 'e', 'a', 'r', 't', 'h')\n",
      "(1, 'hola', 2.34, 'capullo')\n",
      "(1, 'hola', 2.34, 'capullo', ('Jordan', (6, 'anillos'), (6, 'MVP Finals')))\n",
      "1 a h 1\n",
      "('p', 'l', 'a', 'n', 'e', 't')\n",
      "('Jordan', (6, 'anillos'), (6, 'MVP Finals'))\n",
      "Jordan\n",
      "Jordan (6, 'MVP Finals')\n",
      "Introduce caracter a buscar en tupla: e\n",
      "('h', 'e', 'l', 'l', 'o', ' ', 'p', 'l', 'a', 'n', 'e', 't', ' ', 'e', 'a', 'r', 't', 'h')\n",
      "El caracter e se repite 3 veces\n"
     ]
    }
   ],
   "source": [
    "# TUPLAS (***El primero indice de una tupla es siempre [0])\n",
    "\n",
    "tupla1 = (1,2,3,4,5)\n",
    "tupla2 = (\"a\",\"e\",\"i\",\"o\",\"u\")\n",
    "tupla3 = tuple(\"hello planet earth\")\n",
    "tupla4 = (1,\"hola\",2.34,\"capullo\")\n",
    "tupla5 = (1,\"hola\",2.34,\"capullo\",(\"Jordan\",(6,\"anillos\"),(6,\"MVP Finals\")))\n",
    "\n",
    "print(tupla1)\n",
    "print(tupla2)\n",
    "print(tupla3)\n",
    "print(tupla4)\n",
    "print(tupla5)\n",
    "\n",
    "# Accediendo a las tuplas por indices..\n",
    "print(tupla1[0],tupla2[0],tupla3[0],tupla4[0])\n",
    "print( tupla3[6:12] ) #el primer indice lo coge, pero para el último hay que +1\n",
    "print(tupla5[4])\n",
    "print(tupla5[4][0])\n",
    "print(tupla5[4][0],tupla5[4][2])\n",
    "\n",
    "# Recorrer una tupla y validar cuantas veces tiene un caracter o número..\n",
    "\n",
    "caracter = str(input(\"Introduce caracter a buscar en tupla: \"))\n",
    "cnt1 = 0\n",
    "for cnt in tupla3:\n",
    "    if caracter == cnt:\n",
    "        cnt1 += 1\n",
    "print(tupla3)\n",
    "print(f\"El caracter {caracter} se repite {cnt1} veces\")"
   ]
  },
  {
   "cell_type": "code",
   "execution_count": 52,
   "metadata": {},
   "outputs": [
    {
     "name": "stdout",
     "output_type": "stream",
     "text": [
      "[1, 2, 3]\n",
      "2\n",
      "2\n",
      "1\n",
      "[1, 2, 4]\n",
      "['Jordan', 38.2, [6, 'Anillos']]\n",
      "[1, 2, 4, 5, 6]\n",
      "1\n",
      "2\n",
      "4\n",
      "5\n",
      "6\n",
      "[1, 2, 4, 1, 2, 4]\n",
      "['Jordan', 38.2]\n",
      "[[6, 'Anillos']]\n",
      "[1, 2, 4, 6]\n",
      "13 6 1 4\n",
      "range(-3, 3)\n",
      "-3\n",
      "-2\n",
      "-1\n",
      "0\n",
      "1\n",
      "2\n",
      "[-3, -2, -1, 0, 1, 2]\n",
      "[1, 2, 4, 6, 'nuevo']\n",
      "[1, 2, 4, 6, 'nuevo', 'Jordan', 38.2, [6, 'Anillos']]\n",
      "[1, 1, 2, 2, 4, 4]\n",
      "[1, 1, 2, 4, 4]\n",
      "2\n",
      "[1, 1, 2, 4]\n",
      "False\n",
      "True\n",
      "True\n",
      "True\n",
      "[4, 0, 6]\n",
      "Introduce un texto:ruuben\n",
      "ruuben\n",
      "['r', 'u', 'b', 'e', 'n']\n",
      "Cuantos números vas a introducir?: 3\n",
      "Introduce el 1º número: 2\n",
      "Introduce el 2º número: 1\n",
      "Introduce el 3º número: 3\n",
      "la suma de la lista es:  6\n",
      "y su promedio:  2.0\n"
     ]
    }
   ],
   "source": [
    "# LISTAS\n",
    "\n",
    "l1 = [1,2,3]\n",
    "print(l1)\n",
    "print(l1[1])\n",
    "print(l1[-2])\n",
    "print(l1[-3])\n",
    "l1[2] = 4\n",
    "print(l1)\n",
    "\n",
    "l2 = [\"Jordan\", 38.2,[6,\"Anillos\"]]\n",
    "print(l2)\n",
    "\n",
    "# Concatenar..\n",
    "l3 = [5,6]\n",
    "l4 = l1 + l3\n",
    "print(l4)\n",
    "\n",
    "# Pertenencia..\n",
    "# 5 in l4  #True\n",
    "\n",
    "# Recorrer lista con FOR\n",
    "for ind in l4:\n",
    "    print(ind)\n",
    "\n",
    "# Repetición..\n",
    "l5 = l1 * 2\n",
    "print(l5)\n",
    "\n",
    "#Seleccionar un rango..\n",
    "print(l2[0:2])\n",
    "print(l2[2:])\n",
    "\n",
    "# Eliminación de un elemento..\n",
    "del l4[3]\n",
    "print(l4)\n",
    "\n",
    "# Suma,maximo,minimo, num de elementos de una lista..\n",
    "suma = sum (l4)\n",
    "print(suma, max(l4), min(l4), len(l4))\n",
    "\n",
    "# Creación de una Secuencia..\n",
    "l6 = range (-3,3)\n",
    "print(l6)\n",
    "for  ind in l6:\n",
    "    print(ind)\n",
    "\n",
    "print(list (l6))\n",
    "\n",
    "# Añadir, eliminar elementos de una lista..\n",
    "l4.append(\"nuevo\") #Añade por el final..\n",
    "print(l4)\n",
    "\n",
    "l4.extend(l2) # Añade una lista a potra por el final..\n",
    "print(l4)\n",
    "\n",
    "# Ordenar, ***Solo ordena listas con elementos del mismo tipo..\n",
    "l5.sort()\n",
    "print(l5)\n",
    "\n",
    "# Sacar elementos de una lista..por indice, si no saca el último..\n",
    "\n",
    "elem = l5.pop(3)\n",
    "print(l5)\n",
    "print(elem)\n",
    "\n",
    "# Eliminar elementos por su valor..**Si existen varios elimina el primero que encuentre\n",
    "l5.remove(4)\n",
    "print(l5)\n",
    "\n",
    "# Lista Equivalente y NO identica..\n",
    "li1 = [1,2,3]\n",
    "li2 = [1,2,3]\n",
    "\n",
    "print(li1 is li2) #false\n",
    "print(li1 == li2) #true\n",
    "\n",
    "# Lista Equivalente e idéntica..\n",
    "li3 = [4,5,6]\n",
    "li4 = li3\n",
    "\n",
    "print(li3 is li4) #true\n",
    "print(li3 == li4) #true\n",
    "\n",
    "#***En este caso si se hace un cambio en una de las 2 listas afecta a las 2..\n",
    "li4[1] = 0\n",
    "print(li3)\n",
    "\n",
    "#programa que introduce una palabra y lo incluye en una lista sin repetir caracteres..\n",
    "\n",
    "texto = str(input(\"Introduce un texto:\"))\n",
    "li5 = []\n",
    "\n",
    "for ind in texto:\n",
    "    if ind not in li5:\n",
    "        li5.append(ind)\n",
    "\n",
    "print(texto)\n",
    "print(li5)\n",
    "\n",
    "#Programa que solicita un número de elementos numericos y los suma y promedia..\n",
    "\n",
    "li6 = []\n",
    "cantidadnum = int(input(\"Cuantos números vas a introducir?: \"))\n",
    "\n",
    "for cnt in range(cantidadnum):\n",
    "    num = int(input(f\"Introduce el {cnt+1}º número: \"))\n",
    "    li6.append(num)\n",
    "\n",
    "suma = sum(li6)\n",
    "promedio = suma / len(li6)\n",
    "\n",
    "print(\"la suma de la lista es: \",suma)\n",
    "print(\"y su promedio: \",promedio)\n",
    "    "
   ]
  },
  {
   "cell_type": "code",
   "execution_count": 61,
   "metadata": {},
   "outputs": [
    {
     "name": "stdout",
     "output_type": "stream",
     "text": [
      "['H', 'o', 'l', 'a']\n",
      "['Hola', 'puto', 'sistema', 'mundial']\n",
      "Hola puto sistema mundial\n"
     ]
    }
   ],
   "source": [
    "# CADDENAS\n",
    "# - Una lista(secuencia de valores) de caracteres no es una cadena(secuencia de caracteres)..\n",
    "cadena = 'Hola'\n",
    "lis1 = list(cadena) #la funcion list() convierte la cadena en lista\n",
    "print(lis1)\n",
    "\n",
    "#dividir una cadena de texto en palabras a partir del caracter \"espacio/blanco\" y albergarlo en una lista..\n",
    "# - El caracter delimitador de la función split puede ser cualquier otro, xejemplo .split(\"-\")\n",
    "\n",
    "cadena1 = 'Hola puto sistema mundial'\n",
    "lis2 = cadena1.split()\n",
    "print(lis2)\n",
    "\n",
    "# - Se usa .join(\"\"), para lo contrario..ERROR EN EJEMPLO DE LA DOCUMENTACIÓN..\n",
    "delimitador = \" \"\n",
    "lis2 = delimitador.join(lis2)\n",
    "print(lis2)"
   ]
  },
  {
   "cell_type": "code",
   "execution_count": 67,
   "metadata": {},
   "outputs": [
    {
     "name": "stdout",
     "output_type": "stream",
     "text": [
      "['A', 'B', 'F', 'J', 'H', 'R']\n",
      "[1, 9, 81, 729, 6561, 59049, 531441, 4782969, 43046721, 387420489, 3486784401, 31381059609, 282429536481, 2541865828329, 22876792454961, 205891132094649, 1853020188851841, 16677181699666569, 150094635296999121, 1350851717672992089, 12157665459056928801, 109418989131512359209, 984770902183611232881, 8862938119652501095929, 79766443076872509863361, 717897987691852588770249]\n",
      "[0, 3, 6, 9, 12, 15, 18, 21, 24, 27, 30, 33, 36, 39, 42, 45, 48]\n"
     ]
    }
   ],
   "source": [
    "# LISTAS POR COMPRENSIÓN\n",
    "# - Sirve para definir listas a partir de una expresión compacta..\n",
    "\n",
    "list1 = ['a','b','f','j','h','r']\n",
    "list1 = [ind.upper() for ind in list1]\n",
    "print(list1)\n",
    "\n",
    "# Lista que contiene los valores de 3 elevado a X,donde X es un número par y pertenece al rango de 1..50,\n",
    "# incluyendo el 1 y el 50..\n",
    "\n",
    "list2 = [3**ind for ind in range(0,51) if ind % 2 == 0]  # (3 ** 0) = 1\n",
    "print(list2)\n",
    "\n",
    "# Multiplos de 3, en el rango del 1 al 50 incluyendolos..\n",
    "\n",
    "list3 = [ind for ind in range(0,51) if ind % 3 == 0]\n",
    "print(list3)"
   ]
  },
  {
   "cell_type": "code",
   "execution_count": 84,
   "metadata": {},
   "outputs": [
    {
     "name": "stdout",
     "output_type": "stream",
     "text": [
      "{}\n",
      "{'1º': 'Arnés', '2º': 'Pies de Gato', '3º': 'Magnesera', '4º': ('C.Expres', 'Mosquetones')}\n",
      "{'1º': 'TVs'}\n",
      "4\n",
      "True\n",
      "dict_values(['Arnés', 'Pies de Gato', 'Magnesera', ('C.Expres', 'Mosquetones')])\n",
      "True\n",
      "dict_keys(['1º', '2º', '3º', '4º'])\n",
      "0\n",
      "('C.Expres', 'Mosquetones')\n",
      "dict_items([('1º', 'Arnés'), ('2º', 'Pies de Gato'), ('3º', 'Magnesera'), ('4º', ('C.Expres', 'Mosquetones'))])\n",
      "1º Arnés\n",
      "2º Pies de Gato\n",
      "3º Magnesera\n",
      "4º ('C.Expres', 'Mosquetones')\n",
      "1º Arnés\n",
      "2º Pies de Gato\n",
      "3º Magnesera\n",
      "4º ('C.Expres', 'Mosquetones')\n"
     ]
    }
   ],
   "source": [
    "# DICCIONARIOS\n",
    "# - Un diccionario es una colección NO ORDENADA de \"pares\" de elementos de tipo \"Clave-Valor\", donde estos\n",
    "#   pueden ser de casi cualquier tipo. SE CREAN CON LA FUNCION \"dict()\", tal cual crea uno vacío..\n",
    "# - El orden en los disccionarios es imprescindible pero realmente se busca por el valor de la CLAVE..\n",
    "\n",
    "d1 = dict()\n",
    "print(d1) #las {} representan un diccionario vacío..\n",
    "\n",
    "d2 = {\"1º\":\"Arnés\",\"2º\":\"Pies de Gato\",\"3º\":\"Magnesera\",\"4º\":(\"C.Expres\",\"Mosquetones\")}\n",
    "print(d2)\n",
    "\n",
    "# - Añadir elementos.\n",
    "\n",
    "d1[\"1º\"] = \"TVs\"\n",
    "print(d1)\n",
    "\n",
    "# - Métodos.\n",
    "\n",
    "print(len(d2))   # Cuenta los elementos \"Clave-Valor\" del diccionario..\n",
    "\n",
    "print(\"3º\" in d2)  # Te confirma o no si existe un elemento con la clave 3º\n",
    "\n",
    "valores = d2.values() # Devuelve los valores de los elementos en una lista\n",
    "print(valores)\n",
    "print(\"Magnesera\" in valores)\n",
    "\n",
    "claves = d2.keys() # Devuelve las claves de los elementos en una lista\n",
    "print(claves)\n",
    "\n",
    "print(d2.get('5º',0)) # GET devuelve el valor de una clave que existe en el diccionario, si no, \"0\"\n",
    "print(d2.get('4º',0))\n",
    "\n",
    "tupladic1 = d2.items() #Devuelve los elementos del diccionario en una Lista de tuplas\n",
    "print(tupladic1)\n",
    "\n",
    "# Como recorrer un diccionario..\n",
    "\n",
    "for ind in d2:\n",
    "    print(ind,d2[ind])\n",
    "\n",
    "for ind1,ind2 in d2.items():\n",
    "    print(ind1,ind2)\n"
   ]
  },
  {
   "cell_type": "code",
   "execution_count": 96,
   "metadata": {},
   "outputs": [
    {
     "name": "stdout",
     "output_type": "stream",
     "text": [
      "10\n",
      "6\n",
      "Intruce una palabra: ana\n",
      "Al revés:  ana\n",
      "Es Palindroma\n",
      "12\n",
      "12\n",
      "None\n",
      "Introduce los segundos: 15000\n",
      "15000 segundos, son  4  Horas, 10  Minutos, 0  Segundos\n",
      "Carácter UNICODE de:  97 = a  y  65 = A\n",
      "Carácter UNICODE de:  98 = b  y  66 = B\n",
      "Carácter UNICODE de:  99 = c  y  67 = C\n",
      "Carácter UNICODE de:  100 = d  y  68 = D\n",
      "Carácter UNICODE de:  101 = e  y  69 = E\n",
      "Carácter UNICODE de:  102 = f  y  70 = F\n",
      "Carácter UNICODE de:  103 = g  y  71 = G\n",
      "Carácter UNICODE de:  104 = h  y  72 = H\n",
      "Carácter UNICODE de:  105 = i  y  73 = I\n",
      "Carácter UNICODE de:  106 = j  y  74 = J\n",
      "Carácter UNICODE de:  107 = k  y  75 = K\n",
      "Carácter UNICODE de:  108 = l  y  76 = L\n",
      "Carácter UNICODE de:  109 = m  y  77 = M\n",
      "Carácter UNICODE de:  110 = n  y  78 = N\n",
      "Carácter UNICODE de:  111 = o  y  79 = O\n",
      "Carácter UNICODE de:  112 = p  y  80 = P\n",
      "Carácter UNICODE de:  113 = q  y  81 = Q\n",
      "Carácter UNICODE de:  114 = r  y  82 = R\n",
      "Carácter UNICODE de:  115 = s  y  83 = S\n",
      "Carácter UNICODE de:  116 = t  y  84 = T\n",
      "Carácter UNICODE de:  117 = u  y  85 = U\n",
      "Carácter UNICODE de:  118 = v  y  86 = V\n",
      "Carácter UNICODE de:  119 = w  y  87 = W\n",
      "Carácter UNICODE de:  120 = x  y  88 = X\n",
      "Carácter UNICODE de:  121 = y  y  89 = Y\n",
      "Carácter UNICODE de:  122 = z  y  90 = Z\n"
     ]
    }
   ],
   "source": [
    "# FUNCIONES.\n",
    "\n",
    "# - un consecución de sentencias que se ejecutan invocando la función por el nombre dado, y que esta\n",
    "#   devuelve un valor o valores de retorno..\n",
    "# - La primera letra no puede ser un número(mismas reglas de creación que para las variables)..\n",
    "# - Evitar nombres de variables y funciones iguales..\n",
    "# - Función con paretesis en blanco, quiere decir, que no tiene argumentoso parámetros de entrada..\n",
    "# - Una función puede llamarse dentro de otra..\n",
    "# - *** El resultado de la función se le puede asignar a una varible, tanto contenga la clausula\n",
    "#   \"return o no\"\n",
    "\n",
    "# - Creación.\n",
    "# Función que suma 3 números..\n",
    "\n",
    "def suma3 (x,y,z): # Cabecera\n",
    "    suma = x+y+z   # Cuerpo\n",
    "    return suma\n",
    "\n",
    "print(suma3(2,3,5))\n",
    "\n",
    "# Función que multiplica los valores de una lista..\n",
    "\n",
    "def multiplica (lista1):\n",
    "    \n",
    "    resultado = 1\n",
    "    for ind in lista1:\n",
    "        resultado *= ind\n",
    "    \n",
    "    return(resultado)\n",
    "\n",
    "lista2 = {1,2,3}\n",
    "print(multiplica(lista2))\n",
    "\n",
    "# Función que determina si una palabra es palindroma (se lee igual en los 2 sentidos \"Ana\")..\n",
    "\n",
    "cad = str(input(\"Intruce una palabra: \"))\n",
    "def palindromo (palabra):\n",
    "    \n",
    "    pal_reves = palabra[::-1] # sentencia para colocar las letras al revés\n",
    "    print(\"Al revés: \",pal_reves)\n",
    "    \n",
    "    if palabra == pal_reves:\n",
    "        print(\"Es Palindroma\")\n",
    "    else:\n",
    "        print(\"No es Palindroma\")\n",
    "\n",
    "palindromo(cad)\n",
    "    \n",
    "# Asignación a una variable del resultado de una función..\n",
    "\n",
    "def ejemp1 (a):\n",
    "    return 3*a\n",
    "\n",
    "res = ejemp1(4)\n",
    "print(res)\n",
    "\n",
    "def ejemp2 (b): # Devuelve el el resultado y NONE..\n",
    "    print(3*b)\n",
    "\n",
    "res2 = ejemp2(4)\n",
    "print(res2)\n",
    "\n",
    "# Es posible que una función retorne valores multiples, estos se empaquetan en una tupla..\n",
    "# Función o programa que devuleve las horas, minutos y segundos\n",
    "\n",
    "segundos = int(input(\"Introduce los segundos: \"))\n",
    "\n",
    "def convertir_segundos(seg):\n",
    "    hr = int(seg/3600)\n",
    "    min = int((seg % 3600)/60)\n",
    "    segu = int((seg % 3600)%60)\n",
    "    \n",
    "    return(hr,min,segu)\n",
    "\n",
    "(h,m,s) = convertir_segundos(segundos) # andSe define la tupla con el resultado de la función..\n",
    "print(segundos,\"segundos, son \",h,\" Horas,\",m,\" Minutos,\",s,\" Segundos\")\n",
    "\n",
    "# Funciones Internas...documentación: http://pyspanishdoc.sourceforge.net/lib/built-in-funcs.html\n",
    "# max(),min()...\n",
    "# len() Número de elementos del argumento...lista,palabla,tupla,diccionario...\n",
    "# int(),float(),str().. permiten cambiar el tipo de una variable..\n",
    "# chr(97) = a, ord(a) = 97.. Devuelve el valor unicode o el valor ascii respectivamente\n",
    "\n",
    "# Función que escribe la equivalencia UNICODE del abecedario en minúsculas y mayúsculas..\n",
    "for ind in range(97,123):\n",
    "    print(\"Carácter UNICODE de: \",ind,\"=\",chr(ind),\" y \",ind-32,\"=\",chr(ind-32))\n",
    "\n"
   ]
  },
  {
   "cell_type": "code",
   "execution_count": 110,
   "metadata": {},
   "outputs": [
    {
     "name": "stdout",
     "output_type": "stream",
     "text": [
      "Directorio actual:  C:\\Users\\0016571\\Anaconda3\\Notebooks_01\n",
      "Directorios y ficheros:  ['.ipynb_checkpoints', 'Practica_01.ipynb']\n",
      "['DirEntry', 'F_OK', 'MutableMapping', 'O_APPEND', 'O_BINARY', 'O_CREAT', 'O_EXCL', 'O_NOINHERIT', 'O_RANDOM', 'O_RDONLY', 'O_RDWR', 'O_SEQUENTIAL', 'O_SHORT_LIVED', 'O_TEMPORARY', 'O_TEXT', 'O_TRUNC', 'O_WRONLY', 'P_DETACH', 'P_NOWAIT', 'P_NOWAITO', 'P_OVERLAY', 'P_WAIT', 'PathLike', 'R_OK', 'SEEK_CUR', 'SEEK_END', 'SEEK_SET', 'TMP_MAX', 'W_OK', 'X_OK', '_AddedDllDirectory', '_Environ', '__all__', '__builtins__', '__cached__', '__doc__', '__file__', '__loader__', '__name__', '__package__', '__spec__', '_check_methods', '_execvpe', '_exists', '_exit', '_fspath', '_get_exports_list', '_putenv', '_unsetenv', '_wrap_close', 'abc', 'abort', 'access', 'add_dll_directory', 'altsep', 'chdir', 'chmod', 'close', 'closerange', 'cpu_count', 'curdir', 'defpath', 'device_encoding', 'devnull', 'dup', 'dup2', 'environ', 'error', 'execl', 'execle', 'execlp', 'execlpe', 'execv', 'execve', 'execvp', 'execvpe', 'extsep', 'fdopen', 'fsdecode', 'fsencode', 'fspath', 'fstat', 'fsync', 'ftruncate', 'get_exec_path', 'get_handle_inheritable', 'get_inheritable', 'get_terminal_size', 'getcwd', 'getcwdb', 'getenv', 'getlogin', 'getpid', 'getppid', 'isatty', 'kill', 'linesep', 'link', 'listdir', 'lseek', 'lstat', 'makedirs', 'mkdir', 'name', 'open', 'pardir', 'path', 'pathsep', 'pipe', 'popen', 'putenv', 'read', 'readlink', 'remove', 'removedirs', 'rename', 'renames', 'replace', 'rmdir', 'scandir', 'sep', 'set_handle_inheritable', 'set_inheritable', 'spawnl', 'spawnle', 'spawnv', 'spawnve', 'st', 'startfile', 'stat', 'stat_result', 'statvfs_result', 'strerror', 'supports_bytes_environ', 'supports_dir_fd', 'supports_effective_ids', 'supports_fd', 'supports_follow_symlinks', 'symlink', 'sys', 'system', 'terminal_size', 'times', 'times_result', 'truncate', 'umask', 'uname_result', 'unlink', 'urandom', 'utime', 'waitpid', 'walk', 'write']\n",
      "Introduce el radio del circulo: 3\n",
      "Cálculos: \n",
      "1 - Perímetro\n",
      "2 - Área\n",
      "3 - Ambos\n",
      "4 - Salir\n",
      "Elige una opción: 1\n",
      "El perímetro es:  18.84955592153876\n",
      "Elige una opción: 2\n",
      "El área es:  28.274333882308138\n",
      "Elige una opción: 3\n",
      "El perímetro es:  18.84955592153876\n",
      "El área es:  28.274333882308138\n",
      "Elige una opción: 4\n",
      "adios\n"
     ]
    }
   ],
   "source": [
    "# IMPORTAR MÓDULOS.\n",
    "# https://docs.python.org/3/py-modindex.html\n",
    "\n",
    "# Para saber que elementos tiene un módulo se puede usar la función dir()..\n",
    "# import os\n",
    "# dir(os)\n",
    "\n",
    "# Para invocar un elemento de un módulo..\n",
    "# from math import pi\n",
    "\n",
    "# Con \"AS\" renombramos el módulo o elemento importado\n",
    "\n",
    "import os as te\n",
    "print(\"Directorio actual: \", te.getcwd())\n",
    "print(\"Directorios y ficheros: \", te.listdir(te.getcwd()))\n",
    "print(dir(te))\n",
    "\n",
    "# Programa que cálcula el perímetro y/o Area de un circulo.\n",
    "\n",
    "from math import pi\n",
    "\n",
    "radio = float(input(\"Introduce el radio del circulo: \"))\n",
    "print(\"Cálculos: \")\n",
    "print(\"1 - Perímetro\")\n",
    "print(\"2 - Área\")\n",
    "print(\"3 - Ambos\")\n",
    "print(\"4 - Salir\")\n",
    "\n",
    "# Simulamos una sentencia CASE con WHILE, ya que esta no existe en el lenguaje python..\n",
    "opc = int(input(\"Elige una opción: \"))\n",
    "\n",
    "while not opc in (1,2,3,4):\n",
    "    opc = int(input(\"Elige una opción: \"))\n",
    "    \n",
    "if opc == 1:\n",
    "    print(\"El perímetro es: \",(2*pi*radio))\n",
    "elif opc == 2:\n",
    "    print(\"El área es: \",(pi*radio**2))\n",
    "elif opc == 3:\n",
    "    print(\"El perímetro es: \",(2*pi*radio))\n",
    "    print(\"El área es: \",(pi*radio**2))\n",
    "else:\n",
    "    print(\"adios\")\n",
    "\n",
    "# LO codificamos para que hasta que no se introduzca la opción \"4 - Salir\", siga pidiendo una opción..\n",
    "\n",
    "while opc in (1,2,3,4):\n",
    "    opc = int(input(\"Elige una opción: \"))\n",
    "    \n",
    "    if opc == 1:\n",
    "        print(\"El perímetro es: \",(2*pi*radio))\n",
    "    elif opc == 2:\n",
    "        print(\"El área es: \",(pi*radio**2))\n",
    "    elif opc == 3:\n",
    "        print(\"El perímetro es: \",(2*pi*radio))\n",
    "        print(\"El área es: \",(pi*radio**2))\n",
    "    else:\n",
    "        print(\"adios\")\n",
    "        break\n",
    "\n",
    "\n"
   ]
  },
  {
   "cell_type": "code",
   "execution_count": 122,
   "metadata": {},
   "outputs": [
    {
     "name": "stdout",
     "output_type": "stream",
     "text": [
      "Hola soy Rubén\n",
      "\n",
      "Tengo 37 años\n",
      "\n",
      "Peso 60 kilos\n",
      "['Hola soy Rubén\\n', 'Tengo 37 años\\n', 'Peso 60 kilos']\n",
      "['Creando fichero2']\n",
      "['Ya te vemos dormida. \\n', 'Tu barca es de madera por la orilla. \\n', 'Blanca princesa de nunca. \\n', 'Duerme por la noche oscura. \\n', 'Cuerpo y tierra de nieve. Duerme por el alba, duerme. \\n', 'Ya te alejas dormida. ']\n",
      "['0 Ya te vemos dormida. \\n', '2 Blanca princesa de nunca. \\n', '4 Cuerpo y tierra de nieve. Duerme por el alba, duerme. \\n']\n",
      "['0 Ya te vemos dormida. \\n', '2 Blanca princesa de nunca. \\n', '4 Cuerpo y tierra de nieve. Duerme por el alba, duerme. \\n', '\\n', 'Escribiendo por el final.']\n"
     ]
    }
   ],
   "source": [
    "# GESTIÓN DE ARCHIVOS.\n",
    "\n",
    "# - Abrir y leer u archivo\n",
    "\n",
    "f1 = open(\"fichero1.txt\")\n",
    "\n",
    "for linea in f1:\n",
    "    print(linea)\n",
    "f1.close()\n",
    "\n",
    "f1 = open(\"fichero1.txt\")\n",
    "lineas = f1.readlines()\n",
    "lineas[0].rstrip(\"\\n\") #Para quitar los saltos de linea..NO LOS QUITA\n",
    "print(lineas)\n",
    "f1.close()\n",
    "\n",
    "# - Abrir para escribir..\n",
    "\n",
    "f2 = open(\"fichero2.txt\",'w') #Abre el archivo para escritura, y si no existe lo crea..\n",
    "f2.write(\"Creando fichero2\")\n",
    "f2.close()\n",
    "f2 = open(\"fichero2.txt\")\n",
    "lineas2 = f2.readlines()\n",
    "print(lineas2)\n",
    "f2.close()\n",
    "\n",
    "# Programa que lee de un archivo y guarda en otro las lineas pares..\n",
    "\n",
    "f3 = open('cuna.txt')\n",
    "lineas3 = f3.readlines()\n",
    "f3 = open('cuna.txt')\n",
    "lineas3 = f3.readlines()\n",
    "print(lineas3)\n",
    "\n",
    "f4 = open('fichero3.txt','w')\n",
    "for ind, line in enumerate(lineas3):\n",
    "    if ind%2 == 0:\n",
    "        f4.write(str(ind) + ' ' + line)\n",
    "    else:\n",
    "        pass\n",
    "\n",
    "f3.close()\n",
    "f4.close()\n",
    "f4 = open('fichero3.txt')\n",
    "lineas4 = f4.readlines()\n",
    "print(lineas4)\n",
    "f4.close()\n",
    "\n",
    "# Escribir por el final..\n",
    "\n",
    "f5 = open('fichero3.txt','a').write('\\nEscribiendo por el final.')\n",
    "f5 = open('fichero3.txt')\n",
    "lineas5 = f5.readlines()\n",
    "print(lineas5)\n",
    "f5.close()\n",
    "\n"
   ]
  },
  {
   "cell_type": "code",
   "execution_count": 2,
   "metadata": {},
   "outputs": [
    {
     "name": "stdout",
     "output_type": "stream",
     "text": [
      "Introduce texto a convertir/cifrar: Hola Soy Ruben\n",
      "Elige el número de desplazamiento: 1\n",
      "Cifrado:  Ipmb Tpz Svcfo\n"
     ]
    }
   ],
   "source": [
    "# EJERCICIOS.\n",
    "\n",
    "# Programa que mediante una función convierte un texto o palabra, desplazando cada carácter un\n",
    "# número de posiciones seleccionado, en función del abecedario (3 -> a => d)\n",
    "\n",
    "def convertir (texto,desp):\n",
    "    result = ''\n",
    "    for ind in texto: # Iteramos cada caracter de la palabra..\n",
    "        if ind.isalpha(): # Si el caracter es una letra\n",
    "            if ind.islower(): # Si es minúscula..\n",
    "                result += chr((ord(ind) - 97 + int(desp)) + 97) # No entiendo el %26\n",
    "            if ind.isupper():\n",
    "                result += chr((ord(ind) - 65 + int(desp)) + 65)\n",
    "        else:\n",
    "            result += ind\n",
    "    return result\n",
    "\n",
    "if __name__ == '__main__':\n",
    "    t = input(\"Introduce texto a convertir/cifrar: \")\n",
    "    d = input(\"Elige el número de desplazamiento: \")\n",
    "    \n",
    "    if d.isdigit():\n",
    "        t_cifrado = convertir(t,d)\n",
    "        print('Cifrado: ',t_cifrado)\n",
    "    else:\n",
    "        print('el desplazamiento tiene que ser numérico.')"
   ]
  },
  {
   "cell_type": "code",
   "execution_count": null,
   "metadata": {},
   "outputs": [],
   "source": []
  }
 ],
 "metadata": {
  "kernelspec": {
   "display_name": "Python 3",
   "language": "python",
   "name": "python3"
  },
  "language_info": {
   "codemirror_mode": {
    "name": "ipython",
    "version": 3
   },
   "file_extension": ".py",
   "mimetype": "text/x-python",
   "name": "python",
   "nbconvert_exporter": "python",
   "pygments_lexer": "ipython3",
   "version": "3.8.3"
  }
 },
 "nbformat": 4,
 "nbformat_minor": 4
}
